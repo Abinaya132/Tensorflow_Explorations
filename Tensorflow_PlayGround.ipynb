{
 "cells": [
  {
   "cell_type": "markdown",
   "metadata": {},
   "source": [
    "# Tensorflow Basics\n",
    "I will try to simplify the operations around using tensorflow . I am creating this for my own understanding. Feel free to use this . It will be a code level introduction . I won't go into the inner working of Tensorflow. The idea is to create a resource starting from how you define variables in tensorflow to using it to build a multi layered neural net."
   ]
  },
  {
   "cell_type": "markdown",
   "metadata": {},
   "source": [
    "## Defining Variables , Creating Sessions"
   ]
  },
  {
   "cell_type": "code",
   "execution_count": 2,
   "metadata": {},
   "outputs": [
    {
     "name": "stdout",
     "output_type": "stream",
     "text": [
      "Tensor(\"Const_1:0\", shape=(), dtype=int32)\n"
     ]
    }
   ],
   "source": [
    "#printing Hello World\n",
    "import tensorflow as tf\n",
    "\n",
    "a = tf.constant('Hello World')\n",
    "\n",
    "sess = tf.Session()\n",
    "\n",
    "sess.run(a)"
   ]
  },
  {
   "cell_type": "code",
   "execution_count": 8,
   "metadata": {},
   "outputs": [
    {
     "name": "stdout",
     "output_type": "stream",
     "text": [
      "5\n"
     ]
    }
   ],
   "source": [
    "#Basic Operations with constants as graph inputs\n",
    "\n",
    "a = tf.constant(3)\n",
    "b = tf.constant(2)\n",
    "\n",
    "with tf.Session() as sess:\n",
    "    print(sess.run(a+b))"
   ]
  },
  {
   "cell_type": "code",
   "execution_count": 12,
   "metadata": {},
   "outputs": [
    {
     "name": "stdout",
     "output_type": "stream",
     "text": [
      "5\n"
     ]
    }
   ],
   "source": [
    "#Basic Operations with variables as graph inputs\n",
    "\n",
    "#Defining placeholders for the variables\n",
    "a = tf.placeholder(tf.int16) \n",
    "b = tf.placeholder(tf.int16)\n",
    "\n",
    "add = tf.add(a , b)\n",
    "with tf.Session() as sess:\n",
    "    print(sess.run(add , feed_dict={a:2 , b : 3})) #Defining the variable at runtime by passing feed dict"
   ]
  },
  {
   "cell_type": "markdown",
   "metadata": {},
   "source": [
    "## Eager API\n",
    "\n",
    "Tensorflow takes care of the problem of sessions and graphs by giving the eager API . Once you enable it , it tells tf to work like how we work in Python. That means , printing variables as we go . Not worry about adding nodes to graph etc."
   ]
  },
  {
   "cell_type": "code",
   "execution_count": 2,
   "metadata": {},
   "outputs": [],
   "source": [
    "tf.enable_eager_execution() #Enabling the eager mode"
   ]
  },
  {
   "cell_type": "code",
   "execution_count": 3,
   "metadata": {},
   "outputs": [
    {
     "data": {
      "text/plain": [
       "True"
      ]
     },
     "execution_count": 3,
     "metadata": {},
     "output_type": "execute_result"
    }
   ],
   "source": [
    "tf.executing_eagerly() #Checking if tf is going to execute eagerly"
   ]
  },
  {
   "cell_type": "code",
   "execution_count": 6,
   "metadata": {},
   "outputs": [],
   "source": [
    "a = tf.constant(3)\n",
    "b = tf.constant(2)\n",
    "\n",
    "c = a+b"
   ]
  },
  {
   "cell_type": "code",
   "execution_count": 8,
   "metadata": {},
   "outputs": [
    {
     "name": "stdout",
     "output_type": "stream",
     "text": [
      "tf.Tensor(5, shape=(), dtype=int32)\n"
     ]
    }
   ],
   "source": [
    "print(c) # Wow , we didn't need to create a new session or anything. Yayy."
   ]
  },
  {
   "cell_type": "code",
   "execution_count": null,
   "metadata": {},
   "outputs": [],
   "source": []
  }
 ],
 "metadata": {
  "kernelspec": {
   "display_name": "py3_kernel",
   "language": "python",
   "name": "py3_kernel"
  },
  "language_info": {
   "codemirror_mode": {
    "name": "ipython",
    "version": 3
   },
   "file_extension": ".py",
   "mimetype": "text/x-python",
   "name": "python",
   "nbconvert_exporter": "python",
   "pygments_lexer": "ipython3",
   "version": "3.6.5"
  }
 },
 "nbformat": 4,
 "nbformat_minor": 2
}
