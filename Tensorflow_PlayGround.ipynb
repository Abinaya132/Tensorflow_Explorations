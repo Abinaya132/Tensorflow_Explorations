{
 "metadata": {
  "kernelspec": {
   "display_name": "py3_kernel",
   "language": "python",
   "name": "py3_kernel"
  },
  "language_info": {
   "codemirror_mode": {
    "name": "ipython",
    "version": 3
   },
   "file_extension": ".py",
   "mimetype": "text/x-python",
   "name": "python",
   "nbconvert_exporter": "python",
   "pygments_lexer": "ipython3",
   "version": "3.6.5"
  },
  "name": "",
  "signature": "sha256:605025dde6c7061b56898fe9716e1ad0bb2509c83590fbe312d6c54576584420"
 },
 "nbformat": 3,
 "nbformat_minor": 0,
 "worksheets": [
  {
   "cells": [
    {
     "cell_type": "markdown",
     "metadata": {},
     "source": [
      "# Tensorflow Basics\n",
      "I will try to simplify the operations around using tensorflow . I am creating this for my own understanding. Feel free to use this . It will be a code level introduction . I won't go into the inner working of Tensorflow. The idea is to create a resource starting from how you define variables in tensorflow to using it to build a multi layered neural net.\n",
      "\n",
      "This notebook is running on tf version 1.8.0"
     ]
    },
    {
     "cell_type": "heading",
     "level": 2,
     "metadata": {},
     "source": [
      "Defining Variables , Creating Sessions"
     ]
    },
    {
     "cell_type": "code",
     "collapsed": false,
     "input": [
      "#printing Hello World\n",
      "import tensorflow as tf\n",
      "\n",
      "a = tf.constant('Hello World')\n",
      "\n",
      "sess = tf.Session()\n",
      "\n",
      "sess.run(a)"
     ],
     "language": "python",
     "metadata": {},
     "outputs": [
      {
       "metadata": {},
       "output_type": "pyout",
       "prompt_number": 1,
       "text": [
        "'Hello World'"
       ]
      }
     ],
     "prompt_number": 1
    },
    {
     "cell_type": "code",
     "collapsed": false,
     "input": [
      "#Basic Operations with constants as graph inputs\n",
      "\n",
      "a = tf.constant(3)\n",
      "b = tf.constant(2)\n",
      "\n",
      "with tf.Session() as sess:\n",
      "    print(sess.run(a+b))"
     ],
     "language": "python",
     "metadata": {},
     "outputs": [
      {
       "output_type": "stream",
       "stream": "stdout",
       "text": [
        "5\n"
       ]
      }
     ],
     "prompt_number": 2
    },
    {
     "cell_type": "code",
     "collapsed": false,
     "input": [
      "#Basic Operations with variables as graph inputs\n",
      "\n",
      "#Defining placeholders for the variables\n",
      "a = tf.placeholder(tf.int16) \n",
      "b = tf.placeholder(tf.int16)\n",
      "\n",
      "add = tf.add(a , b)\n",
      "with tf.Session() as sess:\n",
      "    print(sess.run(add , feed_dict={a:2 , b : 3})) #Defining the variable at runtime by passing feed dict"
     ],
     "language": "python",
     "metadata": {},
     "outputs": [
      {
       "output_type": "stream",
       "stream": "stdout",
       "text": [
        "5\n"
       ]
      }
     ],
     "prompt_number": 3
    },
    {
     "cell_type": "markdown",
     "metadata": {},
     "source": [
      "## Eager API\n",
      "\n",
      "Tensorflow takes care of the problem of sessions and graphs by giving the eager API . Once you enable it , it tells tf to work like how we work in Python. That means , printing variables as we go and not worry about adding nodes to graph etc.\n",
      "\n",
      "\n",
      "Eager execution should be invoked at the start of the program without any running session and then we can enable eager execution \n",
      "Restart the kernel and import tensorflow "
     ]
    },
    {
     "cell_type": "code",
     "collapsed": false,
     "input": [
      "import tensorflow as tf\n",
      "\n",
      "tf.enable_eager_execution() #Enabling the eager mode"
     ],
     "language": "python",
     "metadata": {},
     "outputs": [],
     "prompt_number": 1
    },
    {
     "cell_type": "code",
     "collapsed": false,
     "input": [
      "tf.executing_eagerly() #Checking if tf is going to execute eagerly"
     ],
     "language": "python",
     "metadata": {},
     "outputs": [
      {
       "metadata": {},
       "output_type": "pyout",
       "prompt_number": 2,
       "text": [
        "True"
       ]
      }
     ],
     "prompt_number": 2
    },
    {
     "cell_type": "code",
     "collapsed": false,
     "input": [
      "a = tf.constant(3)\n",
      "b = tf.constant(2)\n",
      "\n",
      "c = a+b"
     ],
     "language": "python",
     "metadata": {},
     "outputs": [],
     "prompt_number": 3
    },
    {
     "cell_type": "code",
     "collapsed": false,
     "input": [
      "print(c) # Wow , we didn't need to create a new session or anything. Yayy."
     ],
     "language": "python",
     "metadata": {},
     "outputs": [
      {
       "output_type": "stream",
       "stream": "stdout",
       "text": [
        "tf.Tensor(5, shape=(), dtype=int32)\n"
       ]
      }
     ],
     "prompt_number": 4
    }
   ],
   "metadata": {}
  }
 ]
}